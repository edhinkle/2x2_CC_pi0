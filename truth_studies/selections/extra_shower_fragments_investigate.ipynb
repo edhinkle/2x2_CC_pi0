{
 "cells": [
  {
   "cell_type": "code",
   "execution_count": 7,
   "id": "88702ad7",
   "metadata": {},
   "outputs": [
    {
     "name": "stdout",
     "output_type": "stream",
     "text": [
      "Defaulting to user installation because normal site-packages is not writeable\n",
      "Requirement already satisfied: awkward_pandas in /global/homes/e/ehinkle/.local/perlmutter/python-3.11/lib/python3.11/site-packages (2023.8.0)\n",
      "Requirement already satisfied: awkward>=2.0.0 in /global/homes/e/ehinkle/.local/perlmutter/python-3.11/lib/python3.11/site-packages (from awkward_pandas) (2.6.2)\n",
      "Requirement already satisfied: pandas>=1.2 in /global/common/software/nersc/pe/conda-envs/24.1.0/python-3.11/nersc-python/lib/python3.11/site-packages (from awkward_pandas) (2.1.4)\n",
      "Requirement already satisfied: awkward-cpp==30 in /global/homes/e/ehinkle/.local/perlmutter/python-3.11/lib/python3.11/site-packages (from awkward>=2.0.0->awkward_pandas) (30)\n",
      "Requirement already satisfied: fsspec>=2022.11.0 in /global/common/software/nersc/pe/conda-envs/24.1.0/python-3.11/nersc-python/lib/python3.11/site-packages (from awkward>=2.0.0->awkward_pandas) (2023.12.2)\n",
      "Requirement already satisfied: importlib-metadata>=4.13.0 in /global/common/software/nersc/pe/conda-envs/24.1.0/python-3.11/nersc-python/lib/python3.11/site-packages (from awkward>=2.0.0->awkward_pandas) (7.0.1)\n",
      "Requirement already satisfied: numpy>=1.18.0 in /global/common/software/nersc/pe/conda-envs/24.1.0/python-3.11/nersc-python/lib/python3.11/site-packages (from awkward>=2.0.0->awkward_pandas) (1.26.3)\n",
      "Requirement already satisfied: packaging in /global/common/software/nersc/pe/conda-envs/24.1.0/python-3.11/nersc-python/lib/python3.11/site-packages (from awkward>=2.0.0->awkward_pandas) (23.2)\n",
      "Requirement already satisfied: python-dateutil>=2.8.2 in /global/common/software/nersc/pe/conda-envs/24.1.0/python-3.11/nersc-python/lib/python3.11/site-packages (from pandas>=1.2->awkward_pandas) (2.8.2)\n",
      "Requirement already satisfied: pytz>=2020.1 in /global/common/software/nersc/pe/conda-envs/24.1.0/python-3.11/nersc-python/lib/python3.11/site-packages (from pandas>=1.2->awkward_pandas) (2023.3.post1)\n",
      "Requirement already satisfied: tzdata>=2022.1 in /global/common/software/nersc/pe/conda-envs/24.1.0/python-3.11/nersc-python/lib/python3.11/site-packages (from pandas>=1.2->awkward_pandas) (2023.4)\n",
      "Requirement already satisfied: zipp>=0.5 in /global/common/software/nersc/pe/conda-envs/24.1.0/python-3.11/nersc-python/lib/python3.11/site-packages (from importlib-metadata>=4.13.0->awkward>=2.0.0->awkward_pandas) (3.17.0)\n",
      "Requirement already satisfied: six>=1.5 in /global/common/software/nersc/pe/conda-envs/24.1.0/python-3.11/nersc-python/lib/python3.11/site-packages (from python-dateutil>=2.8.2->pandas>=1.2->awkward_pandas) (1.16.0)\n",
      "\n",
      "\u001b[1m[\u001b[0m\u001b[34;49mnotice\u001b[0m\u001b[1;39;49m]\u001b[0m\u001b[39;49m A new release of pip is available: \u001b[0m\u001b[31;49m24.3.1\u001b[0m\u001b[39;49m -> \u001b[0m\u001b[32;49m25.1\u001b[0m\n",
      "\u001b[1m[\u001b[0m\u001b[34;49mnotice\u001b[0m\u001b[1;39;49m]\u001b[0m\u001b[39;49m To update, run: \u001b[0m\u001b[32;49mpip install --upgrade pip\u001b[0m\n",
      "Defaulting to user installation because normal site-packages is not writeable\n",
      "Requirement already satisfied: plotly in /global/homes/e/ehinkle/.local/perlmutter/python-3.11/lib/python3.11/site-packages (6.0.1)\n",
      "Requirement already satisfied: narwhals>=1.15.1 in /global/homes/e/ehinkle/.local/perlmutter/python-3.11/lib/python3.11/site-packages (from plotly) (1.32.0)\n",
      "Requirement already satisfied: packaging in /global/common/software/nersc/pe/conda-envs/24.1.0/python-3.11/nersc-python/lib/python3.11/site-packages (from plotly) (23.2)\n",
      "\n",
      "\u001b[1m[\u001b[0m\u001b[34;49mnotice\u001b[0m\u001b[1;39;49m]\u001b[0m\u001b[39;49m A new release of pip is available: \u001b[0m\u001b[31;49m24.3.1\u001b[0m\u001b[39;49m -> \u001b[0m\u001b[32;49m25.1\u001b[0m\n",
      "\u001b[1m[\u001b[0m\u001b[34;49mnotice\u001b[0m\u001b[1;39;49m]\u001b[0m\u001b[39;49m To update, run: \u001b[0m\u001b[32;49mpip install --upgrade pip\u001b[0m\n"
     ]
    }
   ],
   "source": [
    "# LOAD Packages \n",
    "import uproot\n",
    "import pandas as pd\n",
    "import numpy as np\n",
    "import awkward as ak\n",
    "!pip install awkward_pandas\n",
    "import matplotlib\n",
    "from mpl_toolkits.mplot3d import Axes3D\n",
    "#matplotlib.rcParams.update(matplotlib.rcParamsDefault)\n",
    "#matplotlib.rcParams['text.usetex'] = True\n",
    "import matplotlib.pyplot as plt\n",
    "import os\n",
    "import math\n",
    "import csv\n",
    "import seaborn as sns\n",
    "import sympy as smp\n",
    "import sympy.stats\n",
    "import json\n",
    "import h5py\n",
    "import sys\n",
    "from scipy import stats,signal,ndimage,special,fft\n",
    "from scipy.optimize import curve_fit\n",
    "from scipy.integrate import quad\n",
    "from mpl_toolkits.axes_grid1 import make_axes_locatable\n",
    "!pip install plotly\n",
    "import plotly\n",
    "import plotly.graph_objects as go"
   ]
  },
  {
   "cell_type": "code",
   "execution_count": null,
   "id": "4ccfff59",
   "metadata": {},
   "outputs": [],
   "source": []
  },
  {
   "cell_type": "code",
   "execution_count": 8,
   "id": "beb71ee0",
   "metadata": {},
   "outputs": [],
   "source": [
    "# Open SPINE file: \n",
    "\n",
    "spine_file = \"/global/cfs/cdirs/dune/www/data/2x2/simulation/productions/MiniRun6.2_1E19_RHC/MiniRun6.2_1E19_RHC.spine/MLRECO_SPINE/0000000/MiniRun6.2_1E19_RHC.spine.0000812.MLRECO_SPINE.hdf5\"\n",
    "spine_h5 = h5py.File(spine_file, 'r')\n",
    "spill_id = 812108\n",
    "spine_event_id = 101\n",
    "vert_id = 8125000043"
   ]
  },
  {
   "cell_type": "code",
   "execution_count": 33,
   "id": "819f0eb6",
   "metadata": {},
   "outputs": [
    {
     "name": "stdout",
     "output_type": "stream",
     "text": [
      "Keys in HDF5 file:\n",
      "depositions\n",
      "depositions_label\n",
      "events\n",
      "flashes\n",
      "index\n",
      "info\n",
      "meta\n",
      "points\n",
      "points_label\n",
      "reco_interactions\n",
      "reco_particles\n",
      "run_info\n",
      "trigger\n",
      "truth_interactions\n",
      "truth_particles\n",
      "Events:  ['flashes', 'points', 'reco_interactions', 'depositions_label', 'trigger', 'truth_particles', 'truth_interactions', 'points_label', 'index', 'run_info', 'reco_particles', 'meta', 'depositions']\n",
      "[<HDF5 region reference> <HDF5 region reference> <HDF5 region reference>\n",
      " <HDF5 region reference> <HDF5 region reference> <HDF5 region reference>\n",
      " <HDF5 region reference> <HDF5 region reference> <HDF5 region reference>\n",
      " <HDF5 region reference> <HDF5 region reference> <HDF5 region reference>\n",
      " <HDF5 region reference> <HDF5 region reference> <HDF5 region reference>\n",
      " <HDF5 region reference> <HDF5 region reference> <HDF5 region reference>\n",
      " <HDF5 region reference> <HDF5 region reference> <HDF5 region reference>\n",
      " <HDF5 region reference> <HDF5 region reference> <HDF5 region reference>\n",
      " <HDF5 region reference> <HDF5 region reference> <HDF5 region reference>\n",
      " <HDF5 region reference> <HDF5 region reference> <HDF5 region reference>\n",
      " <HDF5 region reference> <HDF5 region reference> <HDF5 region reference>\n",
      " <HDF5 region reference> <HDF5 region reference> <HDF5 region reference>\n",
      " <HDF5 region reference> <HDF5 region reference> <HDF5 region reference>\n",
      " <HDF5 region reference> <HDF5 region reference> <HDF5 region reference>\n",
      " <HDF5 region reference> <HDF5 region reference> <HDF5 region reference>\n",
      " <HDF5 region reference> <HDF5 region reference> <HDF5 region reference>\n",
      " <HDF5 region reference> <HDF5 region reference> <HDF5 region reference>\n",
      " <HDF5 region reference> <HDF5 region reference> <HDF5 region reference>\n",
      " <HDF5 region reference> <HDF5 region reference> <HDF5 region reference>\n",
      " <HDF5 region reference> <HDF5 region reference> <HDF5 region reference>\n",
      " <HDF5 region reference> <HDF5 region reference> <HDF5 region reference>\n",
      " <HDF5 region reference> <HDF5 region reference> <HDF5 region reference>\n",
      " <HDF5 region reference> <HDF5 region reference> <HDF5 region reference>\n",
      " <HDF5 region reference> <HDF5 region reference> <HDF5 region reference>\n",
      " <HDF5 region reference> <HDF5 region reference> <HDF5 region reference>\n",
      " <HDF5 region reference> <HDF5 region reference> <HDF5 region reference>\n",
      " <HDF5 region reference> <HDF5 region reference> <HDF5 region reference>\n",
      " <HDF5 region reference> <HDF5 region reference> <HDF5 region reference>\n",
      " <HDF5 region reference> <HDF5 region reference> <HDF5 region reference>\n",
      " <HDF5 region reference> <HDF5 region reference> <HDF5 region reference>\n",
      " <HDF5 region reference> <HDF5 region reference> <HDF5 region reference>\n",
      " <HDF5 region reference> <HDF5 region reference> <HDF5 region reference>\n",
      " <HDF5 region reference> <HDF5 region reference> <HDF5 region reference>\n",
      " <HDF5 region reference> <HDF5 region reference> <HDF5 region reference>\n",
      " <HDF5 region reference> <HDF5 region reference> <HDF5 region reference>\n",
      " <HDF5 region reference> <HDF5 region reference> <HDF5 region reference>\n",
      " <HDF5 region reference> <HDF5 region reference> <HDF5 region reference>\n",
      " <HDF5 region reference> <HDF5 region reference> <HDF5 region reference>\n",
      " <HDF5 region reference> <HDF5 region reference> <HDF5 region reference>\n",
      " <HDF5 region reference> <HDF5 region reference> <HDF5 region reference>\n",
      " <HDF5 region reference> <HDF5 region reference> <HDF5 region reference>\n",
      " <HDF5 region reference> <HDF5 region reference> <HDF5 region reference>\n",
      " <HDF5 region reference> <HDF5 region reference> <HDF5 region reference>\n",
      " <HDF5 region reference> <HDF5 region reference> <HDF5 region reference>\n",
      " <HDF5 region reference> <HDF5 region reference> <HDF5 region reference>\n",
      " <HDF5 region reference> <HDF5 region reference> <HDF5 region reference>\n",
      " <HDF5 region reference> <HDF5 region reference> <HDF5 region reference>\n",
      " <HDF5 region reference> <HDF5 region reference> <HDF5 region reference>\n",
      " <HDF5 region reference> <HDF5 region reference> <HDF5 region reference>\n",
      " <HDF5 region reference> <HDF5 region reference> <HDF5 region reference>\n",
      " <HDF5 region reference> <HDF5 region reference> <HDF5 region reference>\n",
      " <HDF5 region reference> <HDF5 region reference> <HDF5 region reference>\n",
      " <HDF5 region reference> <HDF5 region reference> <HDF5 region reference>\n",
      " <HDF5 region reference> <HDF5 region reference> <HDF5 region reference>\n",
      " <HDF5 region reference> <HDF5 region reference> <HDF5 region reference>\n",
      " <HDF5 region reference> <HDF5 region reference> <HDF5 region reference>\n",
      " <HDF5 region reference> <HDF5 region reference> <HDF5 region reference>\n",
      " <HDF5 region reference> <HDF5 region reference> <HDF5 region reference>\n",
      " <HDF5 region reference> <HDF5 region reference> <HDF5 region reference>\n",
      " <HDF5 region reference> <HDF5 region reference>]\n"
     ]
    }
   ],
   "source": [
    "# Look at H5 file:\n",
    "\n",
    "print(\"Keys in HDF5 file:\")\n",
    "for key in spine_h5.keys():\n",
    "    print(key)\n",
    "\n",
    "spine_events = spine_h5['events']\n",
    "print(\"Events: \", list(spine_events.dtype.names))\n",
    "print(spine_events['run_info'])"
   ]
  },
  {
   "cell_type": "code",
   "execution_count": 31,
   "id": "90e65ec4",
   "metadata": {},
   "outputs": [
    {
     "name": "stdout",
     "output_type": "stream",
     "text": [
      "Chosen event:  []\n",
      "Reco particles in interaction:  []\n"
     ]
    },
    {
     "ename": "IndexError",
     "evalue": "only integers, slices (`:`), ellipsis (`...`), numpy.newaxis (`None`) and integer or boolean arrays are valid indices",
     "output_type": "error",
     "traceback": [
      "\u001b[0;31m---------------------------------------------------------------------------\u001b[0m",
      "\u001b[0;31mIndexError\u001b[0m                                Traceback (most recent call last)",
      "Cell \u001b[0;32mIn[31], line 9\u001b[0m\n\u001b[1;32m      6\u001b[0m \u001b[38;5;28mprint\u001b[39m(\u001b[38;5;124m\"\u001b[39m\u001b[38;5;124mReco particles in interaction: \u001b[39m\u001b[38;5;124m\"\u001b[39m, spine_reco_particles_in_ixn)\n\u001b[1;32m      8\u001b[0m reco_particle_id \u001b[38;5;241m=\u001b[39m \u001b[38;5;241m1\u001b[39m\n\u001b[0;32m----> 9\u001b[0m reco_particle \u001b[38;5;241m=\u001b[39m spine_reco_particles_in_ixn[\u001b[43mspine_reco_particles_in_ixn\u001b[49m\u001b[43m[\u001b[49m\u001b[38;5;124;43m'\u001b[39;49m\u001b[38;5;124;43mid\u001b[39;49m\u001b[38;5;124;43m'\u001b[39;49m\u001b[43m]\u001b[49m \u001b[38;5;241m==\u001b[39m reco_particle_id]\n\u001b[1;32m     10\u001b[0m \u001b[38;5;66;03m#print(\"Reco particle: \", reco_particle)\u001b[39;00m\n\u001b[1;32m     11\u001b[0m \u001b[38;5;66;03m#print(\"Number of fragments: \", reco_particle['num_fragments'])\u001b[39;00m\n",
      "\u001b[0;31mIndexError\u001b[0m: only integers, slices (`:`), ellipsis (`...`), numpy.newaxis (`None`) and integer or boolean arrays are valid indices"
     ]
    }
   ],
   "source": [
    "# Isolate particle of study: \n",
    "\n",
    "spine_event_chosen = spine_events[spine_events['index'] == spine_event_id]\n",
    "print(\"Chosen event: \", spine_event_chosen)\n",
    "spine_reco_particles_in_ixn = spine_event_chosen['reco_particles']\n",
    "print(\"Reco particles in interaction: \", spine_reco_particles_in_ixn)\n",
    "\n",
    "reco_particle_id = 1\n",
    "reco_particle = spine_reco_particles_in_ixn[spine_reco_particles_in_ixn['id'] == reco_particle_id]\n",
    "#print(\"Reco particle: \", reco_particle)\n",
    "#print(\"Number of fragments: \", reco_particle['num_fragments'])"
   ]
  },
  {
   "cell_type": "code",
   "execution_count": null,
   "id": "59126c5c",
   "metadata": {},
   "outputs": [],
   "source": []
  }
 ],
 "metadata": {
  "kernelspec": {
   "display_name": "Python 3 (ipykernel)",
   "language": "python",
   "name": "python3"
  },
  "language_info": {
   "codemirror_mode": {
    "name": "ipython",
    "version": 3
   },
   "file_extension": ".py",
   "mimetype": "text/x-python",
   "name": "python",
   "nbconvert_exporter": "python",
   "pygments_lexer": "ipython3",
   "version": "3.11.7"
  }
 },
 "nbformat": 4,
 "nbformat_minor": 5
}
